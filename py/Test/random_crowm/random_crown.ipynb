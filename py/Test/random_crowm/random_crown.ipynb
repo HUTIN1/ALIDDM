{
 "cells": [
  {
   "cell_type": "code",
   "execution_count": null,
   "metadata": {},
   "outputs": [
    {
     "ename": "",
     "evalue": "",
     "output_type": "error",
     "traceback": [
      "\u001b[1;31mRunning cells with 'Python 3.9.13 ('aliddm')' requires ipykernel package.\n",
      "\u001b[1;31mRun the following command to install 'ipykernel' into the Python environment. \n",
      "\u001b[1;31mCommand: 'conda install -n aliddm ipykernel --update-deps --force-reinstall'"
     ]
    }
   ],
   "source": [
    "#import torch\n",
    "from pytorch3d.io import load_obj\n",
    "from vtk import vtkPolyDataNormals,vtkPolyDataReader, vtkPolyData\n",
    "import os\n",
    "from torch import int64, float32, clamp, tensor\n",
    "from vtk.util.numpy_support import vtk_to_numpy\n",
    "from monai.transforms import (\n",
    "    ToTensor\n",
    ")\n",
    "from pytorch3d.vis.plotly_vis import AxisArgs, plot_batch_individually, plot_scene\n",
    "from pytorch3d.structures import Meshes\n",
    "import matplotlib.pyplot as plt\n",
    "import numpy as np"
   ]
  },
  {
   "cell_type": "code",
   "execution_count": null,
   "metadata": {},
   "outputs": [
    {
     "ename": "",
     "evalue": "",
     "output_type": "error",
     "traceback": [
      "\u001b[1;31mRunning cells with 'Python 3.9.13 ('aliddm')' requires ipykernel package.\n",
      "\u001b[1;31mRun the following command to install 'ipykernel' into the Python environment. \n",
      "\u001b[1;31mCommand: 'conda install -n aliddm ipykernel --update-deps --force-reinstall'"
     ]
    }
   ],
   "source": [
    "def ComputeNormals(surf):\n",
    "    normals = vtkPolyDataNormals()\n",
    "    normals.SetInputData(surf);\n",
    "    normals.ComputeCellNormalsOff();\n",
    "    normals.ComputePointNormalsOn();\n",
    "    normals.SplittingOff();\n",
    "    normals.Update()\n",
    "    \n",
    "    return normals.GetOutput()\n",
    "\n",
    "\n",
    "def ReadSurf(fileName):\n",
    "    fname, extension = os.path.splitext(fileName)\n",
    "    reader = vtkPolyDataReader()\n",
    "    reader.SetFileName(fileName)\n",
    "    reader.Update()\n",
    "    surf = reader.GetOutput()\n",
    "    return surf\n",
    "\n",
    "def ScaleSurf(surf, mean_arr = None, scale_factor = None):\n",
    "    surf_copy = vtkPolyData()\n",
    "    surf_copy.DeepCopy(surf)\n",
    "    surf = surf_copy\n",
    "\n",
    "    shapedatapoints = surf.GetPoints()\n",
    "\n",
    "    #calculate bounding box\n",
    "    mean_v = [0.0] * 3\n",
    "    bounds_max_v = [0.0] * 3\n",
    "\n",
    "    bounds = shapedatapoints.GetBounds()\n",
    "\n",
    "    mean_v[0] = (bounds[0] + bounds[1])/2.0\n",
    "    mean_v[1] = (bounds[2] + bounds[3])/2.0\n",
    "    mean_v[2] = (bounds[4] + bounds[5])/2.0\n",
    "    bounds_max_v[0] = max(bounds[0], bounds[1])\n",
    "    bounds_max_v[1] = max(bounds[2], bounds[3])\n",
    "    bounds_max_v[2] = max(bounds[4], bounds[5])\n",
    "\n",
    "    shape_points = []\n",
    "    for i in range(shapedatapoints.GetNumberOfPoints()):\n",
    "        p = shapedatapoints.GetPoint(i)\n",
    "        shape_points.append(p)\n",
    "    shape_points = np.array(shape_points)\n",
    "    \n",
    "    #centering points of the shape\n",
    "    if mean_arr is None:\n",
    "        mean_arr = np.array(mean_v)\n",
    "    # print(\"Mean:\", mean_arr)\n",
    "    shape_points = shape_points - mean_arr\n",
    "\n",
    "    #Computing scale factor if it is not provided\n",
    "    if(scale_factor is None):\n",
    "        bounds_max_arr = np.array(bounds_max_v)\n",
    "        scale_factor = 1/np.linalg.norm(bounds_max_arr - mean_arr)\n",
    "\n",
    "    #scale points of the shape by scale factor\n",
    "    # print(\"Scale:\", scale_factor)\n",
    "    shape_points_scaled = np.multiply(shape_points, scale_factor)\n",
    "\n",
    "    #assigning scaled points back to shape\n",
    "    for i in range(shapedatapoints.GetNumberOfPoints()):\n",
    "       shapedatapoints.SetPoint(i, shape_points_scaled[i])    \n",
    "\n",
    "    surf.SetPoints(shapedatapoints)\n",
    "\n",
    "    return surf, mean_arr, scale_factor\n",
    "\n",
    "def ComputeNormals(surf):\n",
    "    normals = vtkPolyDataNormals()\n",
    "    normals.SetInputData(surf);\n",
    "    normals.ComputeCellNormalsOff();\n",
    "    normals.ComputePointNormalsOn();\n",
    "    normals.SplittingOff();\n",
    "    normals.Update()\n",
    "    \n",
    "    return normals.GetOutput()"
   ]
  },
  {
   "cell_type": "code",
   "execution_count": null,
   "metadata": {},
   "outputs": [
    {
     "ename": "",
     "evalue": "",
     "output_type": "error",
     "traceback": [
      "\u001b[1;31mRunning cells with 'Python 3.9.13 ('aliddm')' requires ipykernel package.\n",
      "\u001b[1;31mRun the following command to install 'ipykernel' into the Python environment. \n",
      "\u001b[1;31mCommand: 'conda install -n aliddm ipykernel --update-deps --force-reinstall'"
     ]
    }
   ],
   "source": [
    "path = '/Users/luciacev-admin/Desktop/ALIDDM/ALIDDM/random_crowm/T1_01_L_segmented.vtk'\n",
    "\n",
    "surf = ReadSurf(path)\n",
    "surf, mean_arr, scale_factor= ScaleSurf(surf) \n",
    "surf = ComputeNormals(surf) \n",
    "verts = ToTensor(dtype=float32)(vtk_to_numpy(surf.GetPoints().GetData()))\n",
    "faces = tensor(vtk_to_numpy(surf.GetPolys().GetData()).reshape(-1, 4)[:,1:])\n",
    "region_id = ToTensor(dtype=int64 )(vtk_to_numpy(surf.GetPointData().GetScalars(\"PredictedID\")))\n",
    "region_id = clamp(region_id, min=0)\n",
    "print(region_id,type(region_id))\n",
    "print(verts, type(verts),verts.size())\n",
    "\n",
    "\n",
    "\n",
    "\n",
    "mesh = Meshes(verts = [verts], faces = [faces]) #, textures = region_id)\n",
    "\n",
    "\n",
    "\n",
    "fig = plot_scene({\n",
    "    \"subplot1\": {\n",
    "        \"cow_mesh\": mesh\n",
    "    }\n",
    "})\n",
    "fig.show()"
   ]
  }
 ],
 "metadata": {
  "kernelspec": {
   "display_name": "Python 3.8.13 ('aliddm')",
   "language": "python",
   "name": "python3"
  },
  "language_info": {
   "codemirror_mode": {
    "name": "ipython",
    "version": 3
   },
   "file_extension": ".py",
   "mimetype": "text/x-python",
   "name": "python",
   "nbconvert_exporter": "python",
   "pygments_lexer": "ipython3",
   "version": "3.9.13"
  },
  "orig_nbformat": 4,
  "vscode": {
   "interpreter": {
    "hash": "54b9837416233f1186532121f40ee2325fff5c0c16393830f73935c2bcb8ae36"
   }
  }
 },
 "nbformat": 4,
 "nbformat_minor": 2
}
